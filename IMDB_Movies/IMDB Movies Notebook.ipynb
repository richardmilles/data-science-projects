{
 "cells": [
  {
   "cell_type": "code",
   "execution_count": 136,
   "id": "fd30f776-749d-4558-bd00-21d1ea78d212",
   "metadata": {},
   "outputs": [
    {
     "data": {
      "text/html": [
       "<div>\n",
       "<style scoped>\n",
       "    .dataframe tbody tr th:only-of-type {\n",
       "        vertical-align: middle;\n",
       "    }\n",
       "\n",
       "    .dataframe tbody tr th {\n",
       "        vertical-align: top;\n",
       "    }\n",
       "\n",
       "    .dataframe thead th {\n",
       "        text-align: right;\n",
       "    }\n",
       "</style>\n",
       "<table border=\"1\" class=\"dataframe\">\n",
       "  <thead>\n",
       "    <tr style=\"text-align: right;\">\n",
       "      <th></th>\n",
       "      <th>Poster_Link</th>\n",
       "      <th>Series_Title</th>\n",
       "      <th>Released_Year</th>\n",
       "      <th>Certificate</th>\n",
       "      <th>Runtime</th>\n",
       "      <th>Genre</th>\n",
       "      <th>IMDB_Rating</th>\n",
       "      <th>Overview</th>\n",
       "      <th>Meta_score</th>\n",
       "      <th>Director</th>\n",
       "      <th>Star1</th>\n",
       "      <th>Star2</th>\n",
       "      <th>Star3</th>\n",
       "      <th>Star4</th>\n",
       "      <th>No_of_Votes</th>\n",
       "      <th>Gross</th>\n",
       "    </tr>\n",
       "  </thead>\n",
       "  <tbody>\n",
       "    <tr>\n",
       "      <th>0</th>\n",
       "      <td>https://m.media-amazon.com/images/M/MV5BMDFkYT...</td>\n",
       "      <td>The Shawshank Redemption</td>\n",
       "      <td>1994</td>\n",
       "      <td>A</td>\n",
       "      <td>142 min</td>\n",
       "      <td>Drama</td>\n",
       "      <td>9.3</td>\n",
       "      <td>Two imprisoned men bond over a number of years...</td>\n",
       "      <td>80.0</td>\n",
       "      <td>Frank Darabont</td>\n",
       "      <td>Tim Robbins</td>\n",
       "      <td>Morgan Freeman</td>\n",
       "      <td>Bob Gunton</td>\n",
       "      <td>William Sadler</td>\n",
       "      <td>2343110</td>\n",
       "      <td>28,341,469</td>\n",
       "    </tr>\n",
       "    <tr>\n",
       "      <th>1</th>\n",
       "      <td>https://m.media-amazon.com/images/M/MV5BM2MyNj...</td>\n",
       "      <td>The Godfather</td>\n",
       "      <td>1972</td>\n",
       "      <td>A</td>\n",
       "      <td>175 min</td>\n",
       "      <td>Crime, Drama</td>\n",
       "      <td>9.2</td>\n",
       "      <td>An organized crime dynasty's aging patriarch t...</td>\n",
       "      <td>100.0</td>\n",
       "      <td>Francis Ford Coppola</td>\n",
       "      <td>Marlon Brando</td>\n",
       "      <td>Al Pacino</td>\n",
       "      <td>James Caan</td>\n",
       "      <td>Diane Keaton</td>\n",
       "      <td>1620367</td>\n",
       "      <td>134,966,411</td>\n",
       "    </tr>\n",
       "    <tr>\n",
       "      <th>2</th>\n",
       "      <td>https://m.media-amazon.com/images/M/MV5BMTMxNT...</td>\n",
       "      <td>The Dark Knight</td>\n",
       "      <td>2008</td>\n",
       "      <td>UA</td>\n",
       "      <td>152 min</td>\n",
       "      <td>Action, Crime, Drama</td>\n",
       "      <td>9.0</td>\n",
       "      <td>When the menace known as the Joker wreaks havo...</td>\n",
       "      <td>84.0</td>\n",
       "      <td>Christopher Nolan</td>\n",
       "      <td>Christian Bale</td>\n",
       "      <td>Heath Ledger</td>\n",
       "      <td>Aaron Eckhart</td>\n",
       "      <td>Michael Caine</td>\n",
       "      <td>2303232</td>\n",
       "      <td>534,858,444</td>\n",
       "    </tr>\n",
       "    <tr>\n",
       "      <th>3</th>\n",
       "      <td>https://m.media-amazon.com/images/M/MV5BMWMwMG...</td>\n",
       "      <td>The Godfather: Part II</td>\n",
       "      <td>1974</td>\n",
       "      <td>A</td>\n",
       "      <td>202 min</td>\n",
       "      <td>Crime, Drama</td>\n",
       "      <td>9.0</td>\n",
       "      <td>The early life and career of Vito Corleone in ...</td>\n",
       "      <td>90.0</td>\n",
       "      <td>Francis Ford Coppola</td>\n",
       "      <td>Al Pacino</td>\n",
       "      <td>Robert De Niro</td>\n",
       "      <td>Robert Duvall</td>\n",
       "      <td>Diane Keaton</td>\n",
       "      <td>1129952</td>\n",
       "      <td>57,300,000</td>\n",
       "    </tr>\n",
       "    <tr>\n",
       "      <th>4</th>\n",
       "      <td>https://m.media-amazon.com/images/M/MV5BMWU4N2...</td>\n",
       "      <td>12 Angry Men</td>\n",
       "      <td>1957</td>\n",
       "      <td>U</td>\n",
       "      <td>96 min</td>\n",
       "      <td>Crime, Drama</td>\n",
       "      <td>9.0</td>\n",
       "      <td>A jury holdout attempts to prevent a miscarria...</td>\n",
       "      <td>96.0</td>\n",
       "      <td>Sidney Lumet</td>\n",
       "      <td>Henry Fonda</td>\n",
       "      <td>Lee J. Cobb</td>\n",
       "      <td>Martin Balsam</td>\n",
       "      <td>John Fiedler</td>\n",
       "      <td>689845</td>\n",
       "      <td>4,360,000</td>\n",
       "    </tr>\n",
       "  </tbody>\n",
       "</table>\n",
       "</div>"
      ],
      "text/plain": [
       "                                         Poster_Link  \\\n",
       "0  https://m.media-amazon.com/images/M/MV5BMDFkYT...   \n",
       "1  https://m.media-amazon.com/images/M/MV5BM2MyNj...   \n",
       "2  https://m.media-amazon.com/images/M/MV5BMTMxNT...   \n",
       "3  https://m.media-amazon.com/images/M/MV5BMWMwMG...   \n",
       "4  https://m.media-amazon.com/images/M/MV5BMWU4N2...   \n",
       "\n",
       "               Series_Title Released_Year Certificate  Runtime  \\\n",
       "0  The Shawshank Redemption          1994           A  142 min   \n",
       "1             The Godfather          1972           A  175 min   \n",
       "2           The Dark Knight          2008          UA  152 min   \n",
       "3    The Godfather: Part II          1974           A  202 min   \n",
       "4              12 Angry Men          1957           U   96 min   \n",
       "\n",
       "                  Genre  IMDB_Rating  \\\n",
       "0                 Drama          9.3   \n",
       "1          Crime, Drama          9.2   \n",
       "2  Action, Crime, Drama          9.0   \n",
       "3          Crime, Drama          9.0   \n",
       "4          Crime, Drama          9.0   \n",
       "\n",
       "                                            Overview  Meta_score  \\\n",
       "0  Two imprisoned men bond over a number of years...        80.0   \n",
       "1  An organized crime dynasty's aging patriarch t...       100.0   \n",
       "2  When the menace known as the Joker wreaks havo...        84.0   \n",
       "3  The early life and career of Vito Corleone in ...        90.0   \n",
       "4  A jury holdout attempts to prevent a miscarria...        96.0   \n",
       "\n",
       "               Director           Star1           Star2          Star3  \\\n",
       "0        Frank Darabont     Tim Robbins  Morgan Freeman     Bob Gunton   \n",
       "1  Francis Ford Coppola   Marlon Brando       Al Pacino     James Caan   \n",
       "2     Christopher Nolan  Christian Bale    Heath Ledger  Aaron Eckhart   \n",
       "3  Francis Ford Coppola       Al Pacino  Robert De Niro  Robert Duvall   \n",
       "4          Sidney Lumet     Henry Fonda     Lee J. Cobb  Martin Balsam   \n",
       "\n",
       "            Star4  No_of_Votes        Gross  \n",
       "0  William Sadler      2343110   28,341,469  \n",
       "1    Diane Keaton      1620367  134,966,411  \n",
       "2   Michael Caine      2303232  534,858,444  \n",
       "3    Diane Keaton      1129952   57,300,000  \n",
       "4    John Fiedler       689845    4,360,000  "
      ]
     },
     "execution_count": 136,
     "metadata": {},
     "output_type": "execute_result"
    }
   ],
   "source": [
    "import pandas as pd\n",
    "import numpy as np\n",
    "import matplotlib.pyplot as plt\n",
    "import seaborn as sns\n",
    "\n",
    "# Charger le dataset\n",
    "df = pd.read_csv(\"imdb_top_1000.csv\")\n",
    "\n",
    "# Afficher les premières lignes\n",
    "df.head()\n"
   ]
  },
  {
   "cell_type": "code",
   "execution_count": 137,
   "id": "d9449b33-2a53-413e-b3f6-6f9be8d76304",
   "metadata": {},
   "outputs": [
    {
     "name": "stdout",
     "output_type": "stream",
     "text": [
      "<class 'pandas.core.frame.DataFrame'>\n",
      "RangeIndex: 1000 entries, 0 to 999\n",
      "Data columns (total 16 columns):\n",
      " #   Column         Non-Null Count  Dtype  \n",
      "---  ------         --------------  -----  \n",
      " 0   Poster_Link    1000 non-null   object \n",
      " 1   Series_Title   1000 non-null   object \n",
      " 2   Released_Year  1000 non-null   object \n",
      " 3   Certificate    899 non-null    object \n",
      " 4   Runtime        1000 non-null   object \n",
      " 5   Genre          1000 non-null   object \n",
      " 6   IMDB_Rating    1000 non-null   float64\n",
      " 7   Overview       1000 non-null   object \n",
      " 8   Meta_score     843 non-null    float64\n",
      " 9   Director       1000 non-null   object \n",
      " 10  Star1          1000 non-null   object \n",
      " 11  Star2          1000 non-null   object \n",
      " 12  Star3          1000 non-null   object \n",
      " 13  Star4          1000 non-null   object \n",
      " 14  No_of_Votes    1000 non-null   int64  \n",
      " 15  Gross          831 non-null    object \n",
      "dtypes: float64(2), int64(1), object(13)\n",
      "memory usage: 125.1+ KB\n"
     ]
    }
   ],
   "source": [
    "# Afficher les infos générales\n",
    "df.info()\n"
   ]
  },
  {
   "cell_type": "code",
   "execution_count": 138,
   "id": "07c4fbc6-be77-4092-a016-30c633d00a7a",
   "metadata": {},
   "outputs": [
    {
     "data": {
      "text/plain": [
       "Certificate    101\n",
       "Meta_score     157\n",
       "Gross          169\n",
       "dtype: int64"
      ]
     },
     "execution_count": 138,
     "metadata": {},
     "output_type": "execute_result"
    }
   ],
   "source": [
    "# Vérifier les valeurs manquantes\n",
    "missing_values = df.isnull().sum()\n",
    "missing_values[missing_values > 0]\n"
   ]
  },
  {
   "cell_type": "code",
   "execution_count": 139,
   "id": "185749c2-a244-4169-bdc3-9c1c6d3452a5",
   "metadata": {},
   "outputs": [
    {
     "data": {
      "text/html": [
       "<div>\n",
       "<style scoped>\n",
       "    .dataframe tbody tr th:only-of-type {\n",
       "        vertical-align: middle;\n",
       "    }\n",
       "\n",
       "    .dataframe tbody tr th {\n",
       "        vertical-align: top;\n",
       "    }\n",
       "\n",
       "    .dataframe thead th {\n",
       "        text-align: right;\n",
       "    }\n",
       "</style>\n",
       "<table border=\"1\" class=\"dataframe\">\n",
       "  <thead>\n",
       "    <tr style=\"text-align: right;\">\n",
       "      <th></th>\n",
       "      <th>IMDB_Rating</th>\n",
       "      <th>Meta_score</th>\n",
       "      <th>No_of_Votes</th>\n",
       "    </tr>\n",
       "  </thead>\n",
       "  <tbody>\n",
       "    <tr>\n",
       "      <th>count</th>\n",
       "      <td>1000.000000</td>\n",
       "      <td>843.000000</td>\n",
       "      <td>1.000000e+03</td>\n",
       "    </tr>\n",
       "    <tr>\n",
       "      <th>mean</th>\n",
       "      <td>7.949300</td>\n",
       "      <td>77.971530</td>\n",
       "      <td>2.736929e+05</td>\n",
       "    </tr>\n",
       "    <tr>\n",
       "      <th>std</th>\n",
       "      <td>0.275491</td>\n",
       "      <td>12.376099</td>\n",
       "      <td>3.273727e+05</td>\n",
       "    </tr>\n",
       "    <tr>\n",
       "      <th>min</th>\n",
       "      <td>7.600000</td>\n",
       "      <td>28.000000</td>\n",
       "      <td>2.508800e+04</td>\n",
       "    </tr>\n",
       "    <tr>\n",
       "      <th>25%</th>\n",
       "      <td>7.700000</td>\n",
       "      <td>70.000000</td>\n",
       "      <td>5.552625e+04</td>\n",
       "    </tr>\n",
       "    <tr>\n",
       "      <th>50%</th>\n",
       "      <td>7.900000</td>\n",
       "      <td>79.000000</td>\n",
       "      <td>1.385485e+05</td>\n",
       "    </tr>\n",
       "    <tr>\n",
       "      <th>75%</th>\n",
       "      <td>8.100000</td>\n",
       "      <td>87.000000</td>\n",
       "      <td>3.741612e+05</td>\n",
       "    </tr>\n",
       "    <tr>\n",
       "      <th>max</th>\n",
       "      <td>9.300000</td>\n",
       "      <td>100.000000</td>\n",
       "      <td>2.343110e+06</td>\n",
       "    </tr>\n",
       "  </tbody>\n",
       "</table>\n",
       "</div>"
      ],
      "text/plain": [
       "       IMDB_Rating  Meta_score   No_of_Votes\n",
       "count  1000.000000  843.000000  1.000000e+03\n",
       "mean      7.949300   77.971530  2.736929e+05\n",
       "std       0.275491   12.376099  3.273727e+05\n",
       "min       7.600000   28.000000  2.508800e+04\n",
       "25%       7.700000   70.000000  5.552625e+04\n",
       "50%       7.900000   79.000000  1.385485e+05\n",
       "75%       8.100000   87.000000  3.741612e+05\n",
       "max       9.300000  100.000000  2.343110e+06"
      ]
     },
     "execution_count": 139,
     "metadata": {},
     "output_type": "execute_result"
    }
   ],
   "source": [
    "# Résumé statistique des variables numériques\n",
    "df.describe()\n"
   ]
  },
  {
   "cell_type": "markdown",
   "id": "bbc2ffa6-9a65-42d4-82ef-99f62e425aa6",
   "metadata": {},
   "source": [
    "## Conversion des types de données\n",
    "Nous allons convertir les colonnes suivantes :\n",
    "Released_Year → en int\n",
    "Gross → en float\n",
    "Runtime → en int"
   ]
  },
  {
   "cell_type": "code",
   "execution_count": 140,
   "id": "24fbf451-da0e-480b-b9a7-b94828deea47",
   "metadata": {},
   "outputs": [
    {
     "name": "stdout",
     "output_type": "stream",
     "text": [
      "int32\n",
      "[1994 1972 2008 1974 1957 2003 1993 2010 1999 2001]\n"
     ]
    }
   ],
   "source": [
    "# Remplacer les années non numériques par NaN\n",
    "df['Released_Year'] = pd.to_numeric(df['Released_Year'], errors='coerce')\n",
    "\n",
    "# Remplir les valeurs NaN avec la médiane et convertir en int\n",
    "df['Released_Year'] = df['Released_Year'].fillna(df['Released_Year'].median()).astype(int)\n",
    "\n",
    "# Vérifier la conversion\n",
    "print(df['Released_Year'].dtype)  # Doit afficher \"int64\"\n",
    "print(df['Released_Year'].unique()[:10])  # Afficher quelques valeurs pour vérifier\n"
   ]
  },
  {
   "cell_type": "code",
   "execution_count": 141,
   "id": "03204a38-4f8e-4f14-a4c8-b4d4ff68a2da",
   "metadata": {},
   "outputs": [
    {
     "name": "stdout",
     "output_type": "stream",
     "text": [
      "float64\n",
      "0     28341469.0\n",
      "1    134966411.0\n",
      "2    534858444.0\n",
      "3     57300000.0\n",
      "4      4360000.0\n",
      "Name: Gross, dtype: float64\n"
     ]
    }
   ],
   "source": [
    "# Remplacer les virgules et convertir en float\n",
    "df['Gross'] = df['Gross'].str.replace(',', '', regex=True).astype(float)\n",
    "\n",
    "# Remplacer les valeurs NaN par la médiane des revenus\n",
    "#df['Gross'] = df['Gross'].fillna(df['Gross'].median())\n",
    "\n",
    "# Vérifier la conversion\n",
    "print(df['Gross'].dtype)  # Doit afficher \"float64\"\n",
    "print(df['Gross'].head())  # Afficher les premières valeurs\n"
   ]
  },
  {
   "cell_type": "code",
   "execution_count": 142,
   "id": "de617c36-23f1-4611-ae1f-4db4021118e7",
   "metadata": {},
   "outputs": [
    {
     "name": "stdout",
     "output_type": "stream",
     "text": [
      "float64\n",
      "count    8.310000e+02\n",
      "mean     6.803475e+07\n",
      "std      1.097500e+08\n",
      "min      1.305000e+03\n",
      "25%      3.253559e+06\n",
      "50%      2.353089e+07\n",
      "75%      8.075089e+07\n",
      "max      9.366622e+08\n",
      "Name: Gross, dtype: float64\n"
     ]
    }
   ],
   "source": [
    "print(df['Gross'].dtype)  # Vérifier qu'il est bien en float64\n",
    "print(df['Gross'].describe())  # Voir un résumé statistique\n"
   ]
  },
  {
   "cell_type": "code",
   "execution_count": 143,
   "id": "afddad3d-12be-445e-87aa-1e5d2a381edf",
   "metadata": {},
   "outputs": [
    {
     "name": "stdout",
     "output_type": "stream",
     "text": [
      "int32\n"
     ]
    }
   ],
   "source": [
    "# Convertir la colonne en chaînes de caractères\n",
    "df['Runtime'] = df['Runtime'].astype(str)\n",
    "\n",
    "# Extraire les chiffres et convertir en int\n",
    "df['Runtime'] = df['Runtime'].str.extract(r'(\\d+)')[0].astype(int)\n",
    "\n",
    "\n",
    "# Vérifier la conversion\n",
    "print(df['Runtime'].dtype)  # Doit afficher int64 ou int32 selon ton système\n"
   ]
  },
  {
   "cell_type": "code",
   "execution_count": 144,
   "id": "13b66bea-3adc-44f9-93bb-fc4ac9e26ecc",
   "metadata": {},
   "outputs": [
    {
     "data": {
      "text/html": [
       "<div>\n",
       "<style scoped>\n",
       "    .dataframe tbody tr th:only-of-type {\n",
       "        vertical-align: middle;\n",
       "    }\n",
       "\n",
       "    .dataframe tbody tr th {\n",
       "        vertical-align: top;\n",
       "    }\n",
       "\n",
       "    .dataframe thead th {\n",
       "        text-align: right;\n",
       "    }\n",
       "</style>\n",
       "<table border=\"1\" class=\"dataframe\">\n",
       "  <thead>\n",
       "    <tr style=\"text-align: right;\">\n",
       "      <th></th>\n",
       "      <th>Poster_Link</th>\n",
       "      <th>Series_Title</th>\n",
       "      <th>Released_Year</th>\n",
       "      <th>Certificate</th>\n",
       "      <th>Runtime</th>\n",
       "      <th>Genre</th>\n",
       "      <th>IMDB_Rating</th>\n",
       "      <th>Overview</th>\n",
       "      <th>Meta_score</th>\n",
       "      <th>Director</th>\n",
       "      <th>Star1</th>\n",
       "      <th>Star2</th>\n",
       "      <th>Star3</th>\n",
       "      <th>Star4</th>\n",
       "      <th>No_of_Votes</th>\n",
       "      <th>Gross</th>\n",
       "    </tr>\n",
       "  </thead>\n",
       "  <tbody>\n",
       "    <tr>\n",
       "      <th>0</th>\n",
       "      <td>https://m.media-amazon.com/images/M/MV5BMDFkYT...</td>\n",
       "      <td>The Shawshank Redemption</td>\n",
       "      <td>1994</td>\n",
       "      <td>A</td>\n",
       "      <td>142</td>\n",
       "      <td>Drama</td>\n",
       "      <td>9.3</td>\n",
       "      <td>Two imprisoned men bond over a number of years...</td>\n",
       "      <td>80.0</td>\n",
       "      <td>Frank Darabont</td>\n",
       "      <td>Tim Robbins</td>\n",
       "      <td>Morgan Freeman</td>\n",
       "      <td>Bob Gunton</td>\n",
       "      <td>William Sadler</td>\n",
       "      <td>2343110</td>\n",
       "      <td>28341469.0</td>\n",
       "    </tr>\n",
       "    <tr>\n",
       "      <th>1</th>\n",
       "      <td>https://m.media-amazon.com/images/M/MV5BM2MyNj...</td>\n",
       "      <td>The Godfather</td>\n",
       "      <td>1972</td>\n",
       "      <td>A</td>\n",
       "      <td>175</td>\n",
       "      <td>Crime, Drama</td>\n",
       "      <td>9.2</td>\n",
       "      <td>An organized crime dynasty's aging patriarch t...</td>\n",
       "      <td>100.0</td>\n",
       "      <td>Francis Ford Coppola</td>\n",
       "      <td>Marlon Brando</td>\n",
       "      <td>Al Pacino</td>\n",
       "      <td>James Caan</td>\n",
       "      <td>Diane Keaton</td>\n",
       "      <td>1620367</td>\n",
       "      <td>134966411.0</td>\n",
       "    </tr>\n",
       "    <tr>\n",
       "      <th>2</th>\n",
       "      <td>https://m.media-amazon.com/images/M/MV5BMTMxNT...</td>\n",
       "      <td>The Dark Knight</td>\n",
       "      <td>2008</td>\n",
       "      <td>UA</td>\n",
       "      <td>152</td>\n",
       "      <td>Action, Crime, Drama</td>\n",
       "      <td>9.0</td>\n",
       "      <td>When the menace known as the Joker wreaks havo...</td>\n",
       "      <td>84.0</td>\n",
       "      <td>Christopher Nolan</td>\n",
       "      <td>Christian Bale</td>\n",
       "      <td>Heath Ledger</td>\n",
       "      <td>Aaron Eckhart</td>\n",
       "      <td>Michael Caine</td>\n",
       "      <td>2303232</td>\n",
       "      <td>534858444.0</td>\n",
       "    </tr>\n",
       "    <tr>\n",
       "      <th>3</th>\n",
       "      <td>https://m.media-amazon.com/images/M/MV5BMWMwMG...</td>\n",
       "      <td>The Godfather: Part II</td>\n",
       "      <td>1974</td>\n",
       "      <td>A</td>\n",
       "      <td>202</td>\n",
       "      <td>Crime, Drama</td>\n",
       "      <td>9.0</td>\n",
       "      <td>The early life and career of Vito Corleone in ...</td>\n",
       "      <td>90.0</td>\n",
       "      <td>Francis Ford Coppola</td>\n",
       "      <td>Al Pacino</td>\n",
       "      <td>Robert De Niro</td>\n",
       "      <td>Robert Duvall</td>\n",
       "      <td>Diane Keaton</td>\n",
       "      <td>1129952</td>\n",
       "      <td>57300000.0</td>\n",
       "    </tr>\n",
       "    <tr>\n",
       "      <th>4</th>\n",
       "      <td>https://m.media-amazon.com/images/M/MV5BMWU4N2...</td>\n",
       "      <td>12 Angry Men</td>\n",
       "      <td>1957</td>\n",
       "      <td>U</td>\n",
       "      <td>96</td>\n",
       "      <td>Crime, Drama</td>\n",
       "      <td>9.0</td>\n",
       "      <td>A jury holdout attempts to prevent a miscarria...</td>\n",
       "      <td>96.0</td>\n",
       "      <td>Sidney Lumet</td>\n",
       "      <td>Henry Fonda</td>\n",
       "      <td>Lee J. Cobb</td>\n",
       "      <td>Martin Balsam</td>\n",
       "      <td>John Fiedler</td>\n",
       "      <td>689845</td>\n",
       "      <td>4360000.0</td>\n",
       "    </tr>\n",
       "  </tbody>\n",
       "</table>\n",
       "</div>"
      ],
      "text/plain": [
       "                                         Poster_Link  \\\n",
       "0  https://m.media-amazon.com/images/M/MV5BMDFkYT...   \n",
       "1  https://m.media-amazon.com/images/M/MV5BM2MyNj...   \n",
       "2  https://m.media-amazon.com/images/M/MV5BMTMxNT...   \n",
       "3  https://m.media-amazon.com/images/M/MV5BMWMwMG...   \n",
       "4  https://m.media-amazon.com/images/M/MV5BMWU4N2...   \n",
       "\n",
       "               Series_Title  Released_Year Certificate  Runtime  \\\n",
       "0  The Shawshank Redemption           1994           A      142   \n",
       "1             The Godfather           1972           A      175   \n",
       "2           The Dark Knight           2008          UA      152   \n",
       "3    The Godfather: Part II           1974           A      202   \n",
       "4              12 Angry Men           1957           U       96   \n",
       "\n",
       "                  Genre  IMDB_Rating  \\\n",
       "0                 Drama          9.3   \n",
       "1          Crime, Drama          9.2   \n",
       "2  Action, Crime, Drama          9.0   \n",
       "3          Crime, Drama          9.0   \n",
       "4          Crime, Drama          9.0   \n",
       "\n",
       "                                            Overview  Meta_score  \\\n",
       "0  Two imprisoned men bond over a number of years...        80.0   \n",
       "1  An organized crime dynasty's aging patriarch t...       100.0   \n",
       "2  When the menace known as the Joker wreaks havo...        84.0   \n",
       "3  The early life and career of Vito Corleone in ...        90.0   \n",
       "4  A jury holdout attempts to prevent a miscarria...        96.0   \n",
       "\n",
       "               Director           Star1           Star2          Star3  \\\n",
       "0        Frank Darabont     Tim Robbins  Morgan Freeman     Bob Gunton   \n",
       "1  Francis Ford Coppola   Marlon Brando       Al Pacino     James Caan   \n",
       "2     Christopher Nolan  Christian Bale    Heath Ledger  Aaron Eckhart   \n",
       "3  Francis Ford Coppola       Al Pacino  Robert De Niro  Robert Duvall   \n",
       "4          Sidney Lumet     Henry Fonda     Lee J. Cobb  Martin Balsam   \n",
       "\n",
       "            Star4  No_of_Votes        Gross  \n",
       "0  William Sadler      2343110   28341469.0  \n",
       "1    Diane Keaton      1620367  134966411.0  \n",
       "2   Michael Caine      2303232  534858444.0  \n",
       "3    Diane Keaton      1129952   57300000.0  \n",
       "4    John Fiedler       689845    4360000.0  "
      ]
     },
     "execution_count": 144,
     "metadata": {},
     "output_type": "execute_result"
    }
   ],
   "source": [
    "df.head()"
   ]
  },
  {
   "cell_type": "code",
   "execution_count": 145,
   "id": "271061de-f970-4191-b957-f89976a2cdd5",
   "metadata": {},
   "outputs": [
    {
     "name": "stdout",
     "output_type": "stream",
     "text": [
      "Moyenne Meta_score: 77.97153024911032\n",
      "Médiane Meta_score: 79.0\n"
     ]
    }
   ],
   "source": [
    "print(\"Moyenne Meta_score:\", df['Meta_score'].mean())\n",
    "print(\"Médiane Meta_score:\", df['Meta_score'].median())\n"
   ]
  },
  {
   "cell_type": "markdown",
   "id": "b27c9004-54d0-4bad-bb9f-52557899cec6",
   "metadata": {},
   "source": [
    "### Remplacer les valeurs NaN de Meta_score par la moyenne"
   ]
  },
  {
   "cell_type": "code",
   "execution_count": 146,
   "id": "2d2cb500-2e9a-4017-aee7-112a2291a61f",
   "metadata": {},
   "outputs": [
    {
     "name": "stdout",
     "output_type": "stream",
     "text": [
      "0\n"
     ]
    }
   ],
   "source": [
    "# Remplacer les valeurs NaN de Meta_score par la moyenne\n",
    "df['Meta_score'] = df['Meta_score'].fillna(df['Meta_score'].mean())\n",
    "\n",
    "# Vérifier que toutes les valeurs manquantes ont été remplacées\n",
    "print(df['Meta_score'].isnull().sum())  # Doit afficher 0\n"
   ]
  },
  {
   "cell_type": "code",
   "execution_count": 147,
   "id": "288789a9-7ae0-4389-9185-40e1c3e88f88",
   "metadata": {},
   "outputs": [
    {
     "name": "stdout",
     "output_type": "stream",
     "text": [
      "U\n"
     ]
    }
   ],
   "source": [
    "# Afficher la valeur la plus fréquente dans Certificate\n",
    "print(df['Certificate'].mode()[0])\n"
   ]
  },
  {
   "cell_type": "code",
   "execution_count": 148,
   "id": "a374b94e-0172-4bac-a617-b822b67d7611",
   "metadata": {},
   "outputs": [],
   "source": [
    "df['Certificate'] = df['Certificate'].fillna(df['Certificate'].mode()[0])\n"
   ]
  },
  {
   "cell_type": "code",
   "execution_count": 149,
   "id": "07f1ba38-41e4-4d7a-bbc4-85585a3e8921",
   "metadata": {},
   "outputs": [
    {
     "name": "stdout",
     "output_type": "stream",
     "text": [
      "0\n",
      "Certificate\n",
      "U           335\n",
      "A           197\n",
      "UA          175\n",
      "R           146\n",
      "PG-13        43\n",
      "PG           37\n",
      "Passed       34\n",
      "G            12\n",
      "Approved     11\n",
      "TV-PG         3\n",
      "GP            2\n",
      "TV-14         1\n",
      "16            1\n",
      "TV-MA         1\n",
      "Unrated       1\n",
      "U/A           1\n",
      "Name: count, dtype: int64\n"
     ]
    }
   ],
   "source": [
    "print(df['Certificate'].isnull().sum())  # Doit afficher 0\n",
    "print(df['Certificate'].value_counts())  # Vérifier la répartition des catégories\n"
   ]
  },
  {
   "cell_type": "code",
   "execution_count": 150,
   "id": "45a84348-eda7-4bf7-af18-b985946c3671",
   "metadata": {},
   "outputs": [
    {
     "data": {
      "image/png": "[encoded data removed]",
      "text/plain": [
       "<Figure size 800x500 with 1 Axes>"
      ]
     },
     "metadata": {},
     "output_type": "display_data"
    }
   ],
   "source": [
    "import seaborn as sns\n",
    "import matplotlib.pyplot as plt\n",
    "\n",
    "# Afficher la distribution de Gross\n",
    "plt.figure(figsize=(8,5))\n",
    "sns.histplot(df['Gross'], bins=30, kde=True)\n",
    "plt.xlabel(\"Revenu (Gross) en millions\")\n",
    "plt.ylabel(\"Nombre de films\")\n",
    "plt.title(\"Distribution des revenus des films (Gross)\")\n",
    "plt.show()\n"
   ]
  },
  {
   "cell_type": "code",
   "execution_count": 151,
   "id": "a5edf4e7-b8d0-42d9-97ca-8fbf943a2116",
   "metadata": {},
   "outputs": [
    {
     "name": "stdout",
     "output_type": "stream",
     "text": [
      "                Gross  IMDB_Rating\n",
      "Gross        1.000000     0.095923\n",
      "IMDB_Rating  0.095923     1.000000\n"
     ]
    }
   ],
   "source": [
    "# Calculer la corrélation entre Gross et No_of_Votes\n",
    "correlation = df[['Gross', 'IMDB_Rating']].corr()\n",
    "print(correlation)\n"
   ]
  },
  {
   "cell_type": "code",
   "execution_count": 152,
   "id": "89f12c69-1eac-4091-a4d0-ed2c0032984a",
   "metadata": {},
   "outputs": [
    {
     "name": "stdout",
     "output_type": "stream",
     "text": [
      "Nombre de films restants : 831\n"
     ]
    }
   ],
   "source": [
    "# Supprimer les films où Gross est manquant\n",
    "df = df.dropna(subset=['Gross'])\n",
    "\n",
    "# Vérifier la nouvelle taille du dataset\n",
    "print(f\"Nombre de films restants : {df.shape[0]}\")  # Doit afficher 831\n"
   ]
  },
  {
   "cell_type": "code",
   "execution_count": 153,
   "id": "191179db-3e4b-4e63-879b-8ad8cf64d1b4",
   "metadata": {},
   "outputs": [
    {
     "name": "stdout",
     "output_type": "stream",
     "text": [
      "0\n"
     ]
    }
   ],
   "source": [
    "# Vérifier combien de films ont encore Gross manquant\n",
    "print(df['Gross'].isnull().sum())  \n"
   ]
  },
  {
   "cell_type": "code",
   "execution_count": 154,
   "id": "6545f26c-422f-4b30-a452-7a0511072013",
   "metadata": {},
   "outputs": [
    {
     "name": "stdout",
     "output_type": "stream",
     "text": [
      "float64\n"
     ]
    }
   ],
   "source": [
    "# Vérifier le type de la colonne Gross\n",
    "print(df['Gross'].dtype)\n"
   ]
  },
  {
   "cell_type": "code",
   "execution_count": 155,
   "id": "70ada7ad-11fd-4853-92c7-022d5c399f03",
   "metadata": {},
   "outputs": [
    {
     "name": "stdout",
     "output_type": "stream",
     "text": [
      "Nombre de films restants : 831\n"
     ]
    }
   ],
   "source": [
    "# Supprimer les films où Gross est NaN\n",
    "df = df.dropna(subset=['Gross'])\n",
    "\n",
    "# Vérifier le nombre de films restants\n",
    "print(f\"Nombre de films restants : {df.shape[0]}\")\n"
   ]
  },
  {
   "cell_type": "code",
   "execution_count": 156,
   "id": "4cc478d7-b59c-446e-9447-d94a08bbac8e",
   "metadata": {},
   "outputs": [
    {
     "name": "stdout",
     "output_type": "stream",
     "text": [
      "0\n"
     ]
    }
   ],
   "source": [
    "print(df['Gross'].isnull().sum())  # Doit afficher 0\n"
   ]
  },
  {
   "cell_type": "code",
   "execution_count": 157,
   "id": "0b57b25a-cd0f-4092-938a-16f3ce89eba4",
   "metadata": {},
   "outputs": [
    {
     "name": "stdout",
     "output_type": "stream",
     "text": [
      "[2.83414690e+07 1.34966411e+08 5.34858444e+08 5.73000000e+07\n",
      " 4.36000000e+06 3.77845905e+08 1.07928762e+08 9.68988180e+07\n",
      " 2.92576195e+08 3.70301020e+07 3.15544750e+08 3.30252182e+08\n",
      " 6.10000000e+06 3.42551365e+08 1.71479930e+08 4.68363940e+07\n",
      " 2.90475067e+08 1.12000000e+08 5.33678440e+07 1.88020017e+08]\n"
     ]
    }
   ],
   "source": [
    "# Vérifier les valeurs uniques dans Gross\n",
    "print(df['Gross'].unique()[:20])  # Affiche les 20 premières valeurs uniques\n"
   ]
  },
  {
   "cell_type": "code",
   "execution_count": 158,
   "id": "f45159cb-e18a-46f1-bbea-31261c291233",
   "metadata": {},
   "outputs": [
    {
     "name": "stdout",
     "output_type": "stream",
     "text": [
      "Gross\n",
      "4360000.0     5\n",
      "25000000.0    2\n",
      "5450000.0     2\n",
      "5321508.0     2\n",
      "9600000.0     2\n",
      "28341469.0    1\n",
      "1436000.0     1\n",
      "57504069.0    1\n",
      "61276872.0    1\n",
      "52096475.0    1\n",
      "Name: count, dtype: int64\n"
     ]
    }
   ],
   "source": [
    "print(df['Gross'].value_counts().head(10))  # Voir les valeurs les plus fréquentes\n"
   ]
  },
  {
   "cell_type": "code",
   "execution_count": 159,
   "id": "5bfcff34-ee9e-4188-925b-4520820c1f02",
   "metadata": {},
   "outputs": [
    {
     "name": "stdout",
     "output_type": "stream",
     "text": [
      "Nombre de films restants après suppression : 830\n"
     ]
    }
   ],
   "source": [
    "# Trouver la médiane de Gross (déjà connue : 23,530,892)\n",
    "median_gross = 23530892.0  \n",
    "\n",
    "# Supprimer les films ayant cette valeur de Gross\n",
    "df = df[df['Gross'] != median_gross]\n",
    "\n",
    "# Vérifier le nombre de films restants\n",
    "print(f\"Nombre de films restants après suppression : {df.shape[0]}\")\n"
   ]
  },
  {
   "cell_type": "code",
   "execution_count": 160,
   "id": "cdd51dae-1eb7-48ce-9571-1d9f69b02637",
   "metadata": {},
   "outputs": [
    {
     "data": {
      "image/png": "[encoded data removed]",
      "text/plain": [
       "<Figure size 1000x600 with 2 Axes>"
      ]
     },
     "metadata": {},
     "output_type": "display_data"
    }
   ],
   "source": [
    "# Sélectionner uniquement les colonnes numériques pour éviter les erreurs\n",
    "df_numeric = df.select_dtypes(include=['number'])\n",
    "\n",
    "# Matrice de corrélation propre\n",
    "plt.figure(figsize=(10,6))\n",
    "sns.heatmap(df_numeric.corr(), annot=True, cmap=\"coolwarm\", fmt=\".2f\")\n",
    "plt.title(\"Matrice de corrélation entre les variables\")\n",
    "plt.show()\n"
   ]
  },
  {
   "cell_type": "code",
   "execution_count": 161,
   "id": "66c7e4ae-3f9c-4ce2-b5ca-175bd118c123",
   "metadata": {},
   "outputs": [
    {
     "data": {
      "image/png": "[encoded data removed]",
      "text/plain": [
       "<Figure size 800x500 with 1 Axes>"
      ]
     },
     "metadata": {},
     "output_type": "display_data"
    }
   ],
   "source": [
    "plt.figure(figsize=(8,5))\n",
    "sns.scatterplot(x=df['No_of_Votes'], y=df['Gross'])\n",
    "plt.xscale(\"log\")  # Échelle logarithmique pour mieux voir les tendances\n",
    "plt.xlabel(\"Nombre de votes IMDb\")\n",
    "plt.ylabel(\"Revenus (Gross)\")\n",
    "plt.title(\"Relation entre nombre de votes et revenus des films\")\n",
    "plt.show()\n"
   ]
  },
  {
   "cell_type": "code",
   "execution_count": 162,
   "id": "4bda9de3-91dc-43ac-bea9-43f5e2189a4c",
   "metadata": {},
   "outputs": [
    {
     "name": "stderr",
     "output_type": "stream",
     "text": [
      "C:\\Users\\MSI GS65 9SF\\AppData\\Local\\Temp\\ipykernel_8996\\2979491202.py:11: FutureWarning: \n",
      "\n",
      "Passing `palette` without assigning `hue` is deprecated and will be removed in v0.14.0. Assign the `x` variable to `hue` and set `legend=False` for the same effect.\n",
      "\n",
      "  sns.barplot(x=genre_revenue.index, y=genre_revenue.values, palette=\"coolwarm\")\n"
     ]
    },
    {
     "data": {
      "image/png": "[encoded data removed]",
      "text/plain": [
       "<Figure size 1200x500 with 1 Axes>"
      ]
     },
     "metadata": {},
     "output_type": "display_data"
    }
   ],
   "source": [
    "# Séparer les films en genres multiples\n",
    "df_exploded = df.copy()\n",
    "df_exploded['Genre'] = df_exploded['Genre'].str.split(', ')  # Diviser les genres multiples\n",
    "df_exploded = df_exploded.explode('Genre')  # Séparer chaque film par genre\n",
    "\n",
    "# Calculer le revenu moyen par genre\n",
    "genre_revenue = df_exploded.groupby('Genre')['Gross'].mean().sort_values(ascending=False)\n",
    "\n",
    "# Visualisation\n",
    "plt.figure(figsize=(12,5))\n",
    "sns.barplot(x=genre_revenue.index, y=genre_revenue.values, palette=\"coolwarm\")\n",
    "plt.xticks(rotation=45)\n",
    "plt.xlabel(\"Genre\")\n",
    "plt.ylabel(\"Revenu moyen (en millions)\")\n",
    "plt.title(\"Revenus moyens par genre de film\")\n",
    "plt.show()\n"
   ]
  },
  {
   "cell_type": "code",
   "execution_count": 163,
   "id": "8de61abb-5bf1-4fff-a5a9-f9e999b26678",
   "metadata": {},
   "outputs": [
    {
     "name": "stderr",
     "output_type": "stream",
     "text": [
      "C:\\Users\\MSI GS65 9SF\\AppData\\Local\\Temp\\ipykernel_8996\\1213624305.py:6: FutureWarning: \n",
      "\n",
      "Passing `palette` without assigning `hue` is deprecated and will be removed in v0.14.0. Assign the `y` variable to `hue` and set `legend=False` for the same effect.\n",
      "\n",
      "  sns.barplot(x=director_revenue.values, y=director_revenue.index, palette=\"magma\")\n"
     ]
    },
    {
     "data": {
      "image/png": "[encoded data removed]",
      "text/plain": [
       "<Figure size 1200x500 with 1 Axes>"
      ]
     },
     "metadata": {},
     "output_type": "display_data"
    }
   ],
   "source": [
    "# Calculer le revenu moyen par réalisateur\n",
    "director_revenue = df.groupby('Director')['Gross'].mean().sort_values(ascending=False).head(10)\n",
    "\n",
    "# Visualisation\n",
    "plt.figure(figsize=(12,5))\n",
    "sns.barplot(x=director_revenue.values, y=director_revenue.index, palette=\"magma\")\n",
    "plt.xlabel(\"Revenu moyen (en millions)\")\n",
    "plt.ylabel(\"Réalisateur\")\n",
    "plt.title(\"Top 10 des réalisateurs les plus rentables\")\n",
    "plt.show()\n"
   ]
  },
  {
   "cell_type": "code",
   "execution_count": 164,
   "id": "5ccad42a-227e-4a53-b5bc-ce0a8a6744b4",
   "metadata": {},
   "outputs": [
    {
     "data": {
      "image/png": "[encoded data removed]",
      "text/plain": [
       "<Figure size 1200x500 with 1 Axes>"
      ]
     },
     "metadata": {},
     "output_type": "display_data"
    }
   ],
   "source": [
    "# Regrouper les revenus moyens par année\n",
    "yearly_revenue = df.groupby('Released_Year')['Gross'].mean()\n",
    "\n",
    "# Visualisation\n",
    "plt.figure(figsize=(12,5))\n",
    "sns.lineplot(x=yearly_revenue.index, y=yearly_revenue.values, marker=\"o\")\n",
    "plt.xlabel(\"Année de sortie\")\n",
    "plt.ylabel(\"Revenu moyen (en millions)\")\n",
    "plt.title(\"Évolution des revenus des films par année\")\n",
    "plt.grid()\n",
    "plt.show()\n"
   ]
  },
  {
   "cell_type": "markdown",
   "id": "1527cb91-c73a-4eb5-b615-fccf2489766e",
   "metadata": {},
   "source": [
    "## l'encodage des variables catégoriques"
   ]
  },
  {
   "cell_type": "code",
   "execution_count": 165,
   "id": "c00db217-8b41-4ddb-b4f8-6347230b76bc",
   "metadata": {},
   "outputs": [],
   "source": [
    "# Encodage One-Hot de Genre et Certificate\n",
    "df = pd.get_dummies(df, columns=['Genre', 'Certificate'], drop_first=True)"
   ]
  },
  {
   "cell_type": "code",
   "execution_count": 166,
   "id": "d5272666-923f-481b-9d59-a027e934cb40",
   "metadata": {},
   "outputs": [],
   "source": [
    "# Créer une nouvelle variable encodée : revenu moyen par réalisateur\n",
    "director_mean_gross = df.groupby('Director')['Gross'].mean()\n",
    "\n",
    "# Remplacer chaque réalisateur par sa moyenne\n",
    "df['Director_encoded'] = df['Director'].map(director_mean_gross)\n",
    "\n",
    "# Supprimer la colonne d’origine\n",
    "df.drop('Director', axis=1, inplace=True)\n"
   ]
  },
  {
   "cell_type": "code",
   "execution_count": 167,
   "id": "78c0f1ae-d963-4fad-b351-e1d837bacaf5",
   "metadata": {},
   "outputs": [],
   "source": [
    "# Fusionner les 4 stars en une seule liste par film\n",
    "df['All_Stars'] = df[['Star1', 'Star2', 'Star3', 'Star4']].values.tolist()\n",
    "\n",
    "# Aplatir en une seule colonne \"acteur par ligne\"\n",
    "from collections import defaultdict\n",
    "\n",
    "# Créer un dico acteur → revenu moyen\n",
    "star_gross = defaultdict(list)\n",
    "for idx, row in df.iterrows():\n",
    "    for star in row['All_Stars']:\n",
    "        star_gross[star].append(row['Gross'])\n",
    "\n",
    "# Moyenne du revenu pour chaque acteur\n",
    "star_mean = {star: sum(values)/len(values) for star, values in star_gross.items()}\n",
    "\n",
    "# Moyenne des 4 stars pour chaque film\n",
    "def star_avg(stars):\n",
    "    return sum(star_mean.get(s, 0) for s in stars) / 4\n",
    "\n",
    "df['Stars_encoded'] = df['All_Stars'].apply(star_avg)\n",
    "\n",
    "# Supprimer les colonnes d'origine\n",
    "df.drop(['Star1', 'Star2', 'Star3', 'Star4', 'All_Stars'], axis=1, inplace=True)\n"
   ]
  },
  {
   "cell_type": "markdown",
   "id": "110088c4-b020-42f5-9de8-7e7196c9ab82",
   "metadata": {},
   "source": [
    "## Suppression des colonnes non utiles pour la modélisation"
   ]
  },
  {
   "cell_type": "code",
   "execution_count": 168,
   "id": "5a0c2d55-285e-4c3c-a3be-162f75a79db6",
   "metadata": {},
   "outputs": [
    {
     "name": "stdout",
     "output_type": "stream",
     "text": [
      "Index(['Released_Year', 'Runtime', 'No_of_Votes', 'Gross',\n",
      "       'Genre_Action, Adventure, Comedy', 'Genre_Action, Adventure, Drama',\n",
      "       'Genre_Action, Adventure, Family', 'Genre_Action, Adventure, Fantasy',\n",
      "       'Genre_Action, Adventure, History', 'Genre_Action, Adventure, Horror',\n",
      "       ...\n",
      "       'Certificate_PG-13', 'Certificate_Passed', 'Certificate_R',\n",
      "       'Certificate_TV-PG', 'Certificate_U', 'Certificate_U/A',\n",
      "       'Certificate_UA', 'Certificate_Unrated', 'Director_encoded',\n",
      "       'Stars_encoded'],\n",
      "      dtype='object', length=199)\n"
     ]
    }
   ],
   "source": [
    "# Supprimer les colonnes non utiles pour la modélisation\n",
    "df.drop(['Series_Title', 'Overview', 'Poster_Link','Meta_score','IMDB_Rating'], axis=1, inplace=True)\n",
    "\n",
    "# Vérification\n",
    "print(df.columns)\n"
   ]
  },
  {
   "cell_type": "markdown",
   "id": "bd9a6085-33cb-4e1f-b712-d78fca319a30",
   "metadata": {},
   "source": [
    "## la normalisation des variables numériques."
   ]
  },
  {
   "cell_type": "code",
   "execution_count": 169,
   "id": "379ce459-24a9-4e23-bf70-94c1a615eb88",
   "metadata": {},
   "outputs": [
    {
     "data": {
      "text/html": [
       "<div>\n",
       "<style scoped>\n",
       "    .dataframe tbody tr th:only-of-type {\n",
       "        vertical-align: middle;\n",
       "    }\n",
       "\n",
       "    .dataframe tbody tr th {\n",
       "        vertical-align: top;\n",
       "    }\n",
       "\n",
       "    .dataframe thead th {\n",
       "        text-align: right;\n",
       "    }\n",
       "</style>\n",
       "<table border=\"1\" class=\"dataframe\">\n",
       "  <thead>\n",
       "    <tr style=\"text-align: right;\">\n",
       "      <th></th>\n",
       "      <th>Released_Year</th>\n",
       "      <th>Runtime</th>\n",
       "      <th>No_of_Votes</th>\n",
       "      <th>Director_encoded</th>\n",
       "      <th>Stars_encoded</th>\n",
       "    </tr>\n",
       "  </thead>\n",
       "  <tbody>\n",
       "    <tr>\n",
       "      <th>count</th>\n",
       "      <td>8.300000e+02</td>\n",
       "      <td>8.300000e+02</td>\n",
       "      <td>8.300000e+02</td>\n",
       "      <td>8.300000e+02</td>\n",
       "      <td>8.300000e+02</td>\n",
       "    </tr>\n",
       "    <tr>\n",
       "      <th>mean</th>\n",
       "      <td>-4.580004e-15</td>\n",
       "      <td>-1.712151e-17</td>\n",
       "      <td>-6.848605e-17</td>\n",
       "      <td>1.284113e-17</td>\n",
       "      <td>6.420567e-18</td>\n",
       "    </tr>\n",
       "    <tr>\n",
       "      <th>std</th>\n",
       "      <td>1.000603e+00</td>\n",
       "      <td>1.000603e+00</td>\n",
       "      <td>1.000603e+00</td>\n",
       "      <td>1.000603e+00</td>\n",
       "      <td>1.000603e+00</td>\n",
       "    </tr>\n",
       "    <tr>\n",
       "      <th>min</th>\n",
       "      <td>-3.450172e+00</td>\n",
       "      <td>-2.875576e+00</td>\n",
       "      <td>-8.443015e-01</td>\n",
       "      <td>-7.155519e-01</td>\n",
       "      <td>-8.137481e-01</td>\n",
       "    </tr>\n",
       "    <tr>\n",
       "      <th>25%</th>\n",
       "      <td>-4.690346e-01</td>\n",
       "      <td>-7.302188e-01</td>\n",
       "      <td>-7.095209e-01</td>\n",
       "      <td>-6.692989e-01</td>\n",
       "      <td>-7.316749e-01</td>\n",
       "    </tr>\n",
       "    <tr>\n",
       "      <th>50%</th>\n",
       "      <td>2.880797e-01</td>\n",
       "      <td>-1.484270e-01</td>\n",
       "      <td>-3.764855e-01</td>\n",
       "      <td>-3.929606e-01</td>\n",
       "      <td>-3.171440e-01</td>\n",
       "    </tr>\n",
       "    <tr>\n",
       "      <th>75%</th>\n",
       "      <td>7.612762e-01</td>\n",
       "      <td>5.060888e-01</td>\n",
       "      <td>3.821330e-01</td>\n",
       "      <td>2.214948e-01</td>\n",
       "      <td>2.915476e-01</td>\n",
       "    </tr>\n",
       "    <tr>\n",
       "      <th>max</th>\n",
       "      <td>1.187153e+00</td>\n",
       "      <td>4.287735e+00</td>\n",
       "      <td>5.901121e+00</td>\n",
       "      <td>5.077826e+00</td>\n",
       "      <td>7.088795e+00</td>\n",
       "    </tr>\n",
       "  </tbody>\n",
       "</table>\n",
       "</div>"
      ],
      "text/plain": [
       "       Released_Year       Runtime   No_of_Votes  Director_encoded  \\\n",
       "count   8.300000e+02  8.300000e+02  8.300000e+02      8.300000e+02   \n",
       "mean   -4.580004e-15 -1.712151e-17 -6.848605e-17      1.284113e-17   \n",
       "std     1.000603e+00  1.000603e+00  1.000603e+00      1.000603e+00   \n",
       "min    -3.450172e+00 -2.875576e+00 -8.443015e-01     -7.155519e-01   \n",
       "25%    -4.690346e-01 -7.302188e-01 -7.095209e-01     -6.692989e-01   \n",
       "50%     2.880797e-01 -1.484270e-01 -3.764855e-01     -3.929606e-01   \n",
       "75%     7.612762e-01  5.060888e-01  3.821330e-01      2.214948e-01   \n",
       "max     1.187153e+00  4.287735e+00  5.901121e+00      5.077826e+00   \n",
       "\n",
       "       Stars_encoded  \n",
       "count   8.300000e+02  \n",
       "mean    6.420567e-18  \n",
       "std     1.000603e+00  \n",
       "min    -8.137481e-01  \n",
       "25%    -7.316749e-01  \n",
       "50%    -3.171440e-01  \n",
       "75%     2.915476e-01  \n",
       "max     7.088795e+00  "
      ]
     },
     "execution_count": 169,
     "metadata": {},
     "output_type": "execute_result"
    }
   ],
   "source": [
    "from sklearn.preprocessing import StandardScaler\n",
    "\n",
    "# Liste des colonnes numériques à normaliser\n",
    "num_cols = ['Released_Year', 'Runtime', 'No_of_Votes', 'Director_encoded', 'Stars_encoded']\n",
    "\n",
    "# Initialiser le scaler\n",
    "scaler = StandardScaler()\n",
    "\n",
    "# Appliquer la transformation\n",
    "df[num_cols] = scaler.fit_transform(df[num_cols])\n",
    "\n",
    "# Vérification\n",
    "df[num_cols].describe()\n"
   ]
  },
  {
   "cell_type": "markdown",
   "id": "db8f193d-831b-442b-929b-15e167ac0362",
   "metadata": {},
   "source": [
    " ## Entraînement de modèles de régression"
   ]
  },
  {
   "cell_type": "code",
   "execution_count": 170,
   "id": "38b74f98-ad02-44ed-bc6e-ced30a61902d",
   "metadata": {},
   "outputs": [],
   "source": [
    "# Définir la variable cible (ce qu'on veut prédire)\n",
    "y = df['Gross']\n",
    "\n",
    "# Définir les variables explicatives (features)\n",
    "X = df.drop('Gross', axis=1)\n"
   ]
  },
  {
   "cell_type": "code",
   "execution_count": 171,
   "id": "c3c991ec-8e9d-4df6-aea7-93b8608e88e0",
   "metadata": {},
   "outputs": [],
   "source": [
    "from sklearn.model_selection import train_test_split\n",
    "\n",
    "# Étape 1 : séparer train (70%) et temp (30%)\n",
    "X_train, X_temp, y_train, y_temp = train_test_split(\n",
    "    X, y, test_size=0.3, random_state=42\n",
    ")\n",
    "# Étape 2 : séparer validation (50% de temp = 15% du total) et test (15%)\n",
    "X_val, X_test, y_val, y_test = train_test_split(\n",
    "    X_temp, y_temp, test_size=0.5, random_state=42\n",
    ")\n"
   ]
  },
  {
   "cell_type": "code",
   "execution_count": 172,
   "id": "d38a8892-640a-467a-9138-da821341fa4d",
   "metadata": {},
   "outputs": [
    {
     "data": {
      "text/html": [
       "<style>#sk-container-id-1 {\n",
       "  /* Definition of color scheme common for light and dark mode */\n",
       "  --sklearn-color-text: black;\n",
       "  --sklearn-color-line: gray;\n",
       "  /* Definition of color scheme for unfitted estimators */\n",
       "  --sklearn-color-unfitted-level-0: #fff5e6;\n",
       "  --sklearn-color-unfitted-level-1: #f6e4d2;\n",
       "  --sklearn-color-unfitted-level-2: #ffe0b3;\n",
       "  --sklearn-color-unfitted-level-3: chocolate;\n",
       "  /* Definition of color scheme for fitted estimators */\n",
       "  --sklearn-color-fitted-level-0: #f0f8ff;\n",
       "  --sklearn-color-fitted-level-1: #d4ebff;\n",
       "  --sklearn-color-fitted-level-2: #b3dbfd;\n",
       "  --sklearn-color-fitted-level-3: cornflowerblue;\n",
       "\n",
       "  /* Specific color for light theme */\n",
       "  --sklearn-color-text-on-default-background: var(--sg-text-color, var(--theme-code-foreground, var(--jp-content-font-color1, black)));\n",
       "  --sklearn-color-background: var(--sg-background-color, var(--theme-background, var(--jp-layout-color0, white)));\n",
       "  --sklearn-color-border-box: var(--sg-text-color, var(--theme-code-foreground, var(--jp-content-font-color1, black)));\n",
       "  --sklearn-color-icon: #696969;\n",
       "\n",
       "  @media (prefers-color-scheme: dark) {\n",
       "    /* Redefinition of color scheme for dark theme */\n",
       "    --sklearn-color-text-on-default-background: var(--sg-text-color, var(--theme-code-foreground, var(--jp-content-font-color1, white)));\n",
       "    --sklearn-color-background: var(--sg-background-color, var(--theme-background, var(--jp-layout-color0, #111)));\n",
       "    --sklearn-color-border-box: var(--sg-text-color, var(--theme-code-foreground, var(--jp-content-font-color1, white)));\n",
       "    --sklearn-color-icon: #878787;\n",
       "  }\n",
       "}\n",
       "\n",
       "#sk-container-id-1 {\n",
       "  color: var(--sklearn-color-text);\n",
       "}\n",
       "\n",
       "#sk-container-id-1 pre {\n",
       "  padding: 0;\n",
       "}\n",
       "\n",
       "#sk-container-id-1 input.sk-hidden--visually {\n",
       "  border: 0;\n",
       "  clip: rect(1px 1px 1px 1px);\n",
       "  clip: rect(1px, 1px, 1px, 1px);\n",
       "  height: 1px;\n",
       "  margin: -1px;\n",
       "  overflow: hidden;\n",
       "  padding: 0;\n",
       "  position: absolute;\n",
       "  width: 1px;\n",
       "}\n",
       "\n",
       "#sk-container-id-1 div.sk-dashed-wrapped {\n",
       "  border: 1px dashed var(--sklearn-color-line);\n",
       "  margin: 0 0.4em 0.5em 0.4em;\n",
       "  box-sizing: border-box;\n",
       "  padding-bottom: 0.4em;\n",
       "  background-color: var(--sklearn-color-background);\n",
       "}\n",
       "\n",
       "#sk-container-id-1 div.sk-container {\n",
       "  /* jupyter's `normalize.less` sets `[hidden] { display: none; }`\n",
       "     but bootstrap.min.css set `[hidden] { display: none !important; }`\n",
       "     so we also need the `!important` here to be able to override the\n",
       "     default hidden behavior on the sphinx rendered scikit-learn.org.\n",
       "     See: https://github.com/scikit-learn/scikit-learn/issues/21755 */\n",
       "  display: inline-block !important;\n",
       "  position: relative;\n",
       "}\n",
       "\n",
       "#sk-container-id-1 div.sk-text-repr-fallback {\n",
       "  display: none;\n",
       "}\n",
       "\n",
       "div.sk-parallel-item,\n",
       "div.sk-serial,\n",
       "div.sk-item {\n",
       "  /* draw centered vertical line to link estimators */\n",
       "  background-image: linear-gradient(var(--sklearn-color-text-on-default-background), var(--sklearn-color-text-on-default-background));\n",
       "  background-size: 2px 100%;\n",
       "  background-repeat: no-repeat;\n",
       "  background-position: center center;\n",
       "}\n",
       "\n",
       "/* Parallel-specific style estimator block */\n",
       "\n",
       "#sk-container-id-1 div.sk-parallel-item::after {\n",
       "  content: \"\";\n",
       "  width: 100%;\n",
       "  border-bottom: 2px solid var(--sklearn-color-text-on-default-background);\n",
       "  flex-grow: 1;\n",
       "}\n",
       "\n",
       "#sk-container-id-1 div.sk-parallel {\n",
       "  display: flex;\n",
       "  align-items: stretch;\n",
       "  justify-content: center;\n",
       "  background-color: var(--sklearn-color-background);\n",
       "  position: relative;\n",
       "}\n",
       "\n",
       "#sk-container-id-1 div.sk-parallel-item {\n",
       "  display: flex;\n",
       "  flex-direction: column;\n",
       "}\n",
       "\n",
       "#sk-container-id-1 div.sk-parallel-item:first-child::after {\n",
       "  align-self: flex-end;\n",
       "  width: 50%;\n",
       "}\n",
       "\n",
       "#sk-container-id-1 div.sk-parallel-item:last-child::after {\n",
       "  align-self: flex-start;\n",
       "  width: 50%;\n",
       "}\n",
       "\n",
       "#sk-container-id-1 div.sk-parallel-item:only-child::after {\n",
       "  width: 0;\n",
       "}\n",
       "\n",
       "/* Serial-specific style estimator block */\n",
       "\n",
       "#sk-container-id-1 div.sk-serial {\n",
       "  display: flex;\n",
       "  flex-direction: column;\n",
       "  align-items: center;\n",
       "  background-color: var(--sklearn-color-background);\n",
       "  padding-right: 1em;\n",
       "  padding-left: 1em;\n",
       "}\n",
       "\n",
       "\n",
       "/* Toggleable style: style used for estimator/Pipeline/ColumnTransformer box that is\n",
       "clickable and can be expanded/collapsed.\n",
       "- Pipeline and ColumnTransformer use this feature and define the default style\n",
       "- Estimators will overwrite some part of the style using the `sk-estimator` class\n",
       "*/\n",
       "\n",
       "/* Pipeline and ColumnTransformer style (default) */\n",
       "\n",
       "#sk-container-id-1 div.sk-toggleable {\n",
       "  /* Default theme specific background. It is overwritten whether we have a\n",
       "  specific estimator or a Pipeline/ColumnTransformer */\n",
       "  background-color: var(--sklearn-color-background);\n",
       "}\n",
       "\n",
       "/* Toggleable label */\n",
       "#sk-container-id-1 label.sk-toggleable__label {\n",
       "  cursor: pointer;\n",
       "  display: block;\n",
       "  width: 100%;\n",
       "  margin-bottom: 0;\n",
       "  padding: 0.5em;\n",
       "  box-sizing: border-box;\n",
       "  text-align: center;\n",
       "}\n",
       "\n",
       "#sk-container-id-1 label.sk-toggleable__label-arrow:before {\n",
       "  /* Arrow on the left of the label */\n",
       "  content: \"▸\";\n",
       "  float: left;\n",
       "  margin-right: 0.25em;\n",
       "  color: var(--sklearn-color-icon);\n",
       "}\n",
       "\n",
       "#sk-container-id-1 label.sk-toggleable__label-arrow:hover:before {\n",
       "  color: var(--sklearn-color-text);\n",
       "}\n",
       "\n",
       "/* Toggleable content - dropdown */\n",
       "\n",
       "#sk-container-id-1 div.sk-toggleable__content {\n",
       "  max-height: 0;\n",
       "  max-width: 0;\n",
       "  overflow: hidden;\n",
       "  text-align: left;\n",
       "  /* unfitted */\n",
       "  background-color: var(--sklearn-color-unfitted-level-0);\n",
       "}\n",
       "\n",
       "#sk-container-id-1 div.sk-toggleable__content.fitted {\n",
       "  /* fitted */\n",
       "  background-color: var(--sklearn-color-fitted-level-0);\n",
       "}\n",
       "\n",
       "#sk-container-id-1 div.sk-toggleable__content pre {\n",
       "  margin: 0.2em;\n",
       "  border-radius: 0.25em;\n",
       "  color: var(--sklearn-color-text);\n",
       "  /* unfitted */\n",
       "  background-color: var(--sklearn-color-unfitted-level-0);\n",
       "}\n",
       "\n",
       "#sk-container-id-1 div.sk-toggleable__content.fitted pre {\n",
       "  /* unfitted */\n",
       "  background-color: var(--sklearn-color-fitted-level-0);\n",
       "}\n",
       "\n",
       "#sk-container-id-1 input.sk-toggleable__control:checked~div.sk-toggleable__content {\n",
       "  /* Expand drop-down */\n",
       "  max-height: 200px;\n",
       "  max-width: 100%;\n",
       "  overflow: auto;\n",
       "}\n",
       "\n",
       "#sk-container-id-1 input.sk-toggleable__control:checked~label.sk-toggleable__label-arrow:before {\n",
       "  content: \"▾\";\n",
       "}\n",
       "\n",
       "/* Pipeline/ColumnTransformer-specific style */\n",
       "\n",
       "#sk-container-id-1 div.sk-label input.sk-toggleable__control:checked~label.sk-toggleable__label {\n",
       "  color: var(--sklearn-color-text);\n",
       "  background-color: var(--sklearn-color-unfitted-level-2);\n",
       "}\n",
       "\n",
       "#sk-container-id-1 div.sk-label.fitted input.sk-toggleable__control:checked~label.sk-toggleable__label {\n",
       "  background-color: var(--sklearn-color-fitted-level-2);\n",
       "}\n",
       "\n",
       "/* Estimator-specific style */\n",
       "\n",
       "/* Colorize estimator box */\n",
       "#sk-container-id-1 div.sk-estimator input.sk-toggleable__control:checked~label.sk-toggleable__label {\n",
       "  /* unfitted */\n",
       "  background-color: var(--sklearn-color-unfitted-level-2);\n",
       "}\n",
       "\n",
       "#sk-container-id-1 div.sk-estimator.fitted input.sk-toggleable__control:checked~label.sk-toggleable__label {\n",
       "  /* fitted */\n",
       "  background-color: var(--sklearn-color-fitted-level-2);\n",
       "}\n",
       "\n",
       "#sk-container-id-1 div.sk-label label.sk-toggleable__label,\n",
       "#sk-container-id-1 div.sk-label label {\n",
       "  /* The background is the default theme color */\n",
       "  color: var(--sklearn-color-text-on-default-background);\n",
       "}\n",
       "\n",
       "/* On hover, darken the color of the background */\n",
       "#sk-container-id-1 div.sk-label:hover label.sk-toggleable__label {\n",
       "  color: var(--sklearn-color-text);\n",
       "  background-color: var(--sklearn-color-unfitted-level-2);\n",
       "}\n",
       "\n",
       "/* Label box, darken color on hover, fitted */\n",
       "#sk-container-id-1 div.sk-label.fitted:hover label.sk-toggleable__label.fitted {\n",
       "  color: var(--sklearn-color-text);\n",
       "  background-color: var(--sklearn-color-fitted-level-2);\n",
       "}\n",
       "\n",
       "/* Estimator label */\n",
       "\n",
       "#sk-container-id-1 div.sk-label label {\n",
       "  font-family: monospace;\n",
       "  font-weight: bold;\n",
       "  display: inline-block;\n",
       "  line-height: 1.2em;\n",
       "}\n",
       "\n",
       "#sk-container-id-1 div.sk-label-container {\n",
       "  text-align: center;\n",
       "}\n",
       "\n",
       "/* Estimator-specific */\n",
       "#sk-container-id-1 div.sk-estimator {\n",
       "  font-family: monospace;\n",
       "  border: 1px dotted var(--sklearn-color-border-box);\n",
       "  border-radius: 0.25em;\n",
       "  box-sizing: border-box;\n",
       "  margin-bottom: 0.5em;\n",
       "  /* unfitted */\n",
       "  background-color: var(--sklearn-color-unfitted-level-0);\n",
       "}\n",
       "\n",
       "#sk-container-id-1 div.sk-estimator.fitted {\n",
       "  /* fitted */\n",
       "  background-color: var(--sklearn-color-fitted-level-0);\n",
       "}\n",
       "\n",
       "/* on hover */\n",
       "#sk-container-id-1 div.sk-estimator:hover {\n",
       "  /* unfitted */\n",
       "  background-color: var(--sklearn-color-unfitted-level-2);\n",
       "}\n",
       "\n",
       "#sk-container-id-1 div.sk-estimator.fitted:hover {\n",
       "  /* fitted */\n",
       "  background-color: var(--sklearn-color-fitted-level-2);\n",
       "}\n",
       "\n",
       "/* Specification for estimator info (e.g. \"i\" and \"?\") */\n",
       "\n",
       "/* Common style for \"i\" and \"?\" */\n",
       "\n",
       ".sk-estimator-doc-link,\n",
       "a:link.sk-estimator-doc-link,\n",
       "a:visited.sk-estimator-doc-link {\n",
       "  float: right;\n",
       "  font-size: smaller;\n",
       "  line-height: 1em;\n",
       "  font-family: monospace;\n",
       "  background-color: var(--sklearn-color-background);\n",
       "  border-radius: 1em;\n",
       "  height: 1em;\n",
       "  width: 1em;\n",
       "  text-decoration: none !important;\n",
       "  margin-left: 1ex;\n",
       "  /* unfitted */\n",
       "  border: var(--sklearn-color-unfitted-level-1) 1pt solid;\n",
       "  color: var(--sklearn-color-unfitted-level-1);\n",
       "}\n",
       "\n",
       ".sk-estimator-doc-link.fitted,\n",
       "a:link.sk-estimator-doc-link.fitted,\n",
       "a:visited.sk-estimator-doc-link.fitted {\n",
       "  /* fitted */\n",
       "  border: var(--sklearn-color-fitted-level-1) 1pt solid;\n",
       "  color: var(--sklearn-color-fitted-level-1);\n",
       "}\n",
       "\n",
       "/* On hover */\n",
       "div.sk-estimator:hover .sk-estimator-doc-link:hover,\n",
       ".sk-estimator-doc-link:hover,\n",
       "div.sk-label-container:hover .sk-estimator-doc-link:hover,\n",
       ".sk-estimator-doc-link:hover {\n",
       "  /* unfitted */\n",
       "  background-color: var(--sklearn-color-unfitted-level-3);\n",
       "  color: var(--sklearn-color-background);\n",
       "  text-decoration: none;\n",
       "}\n",
       "\n",
       "div.sk-estimator.fitted:hover .sk-estimator-doc-link.fitted:hover,\n",
       ".sk-estimator-doc-link.fitted:hover,\n",
       "div.sk-label-container:hover .sk-estimator-doc-link.fitted:hover,\n",
       ".sk-estimator-doc-link.fitted:hover {\n",
       "  /* fitted */\n",
       "  background-color: var(--sklearn-color-fitted-level-3);\n",
       "  color: var(--sklearn-color-background);\n",
       "  text-decoration: none;\n",
       "}\n",
       "\n",
       "/* Span, style for the box shown on hovering the info icon */\n",
       ".sk-estimator-doc-link span {\n",
       "  display: none;\n",
       "  z-index: 9999;\n",
       "  position: relative;\n",
       "  font-weight: normal;\n",
       "  right: .2ex;\n",
       "  padding: .5ex;\n",
       "  margin: .5ex;\n",
       "  width: min-content;\n",
       "  min-width: 20ex;\n",
       "  max-width: 50ex;\n",
       "  color: var(--sklearn-color-text);\n",
       "  box-shadow: 2pt 2pt 4pt #999;\n",
       "  /* unfitted */\n",
       "  background: var(--sklearn-color-unfitted-level-0);\n",
       "  border: .5pt solid var(--sklearn-color-unfitted-level-3);\n",
       "}\n",
       "\n",
       ".sk-estimator-doc-link.fitted span {\n",
       "  /* fitted */\n",
       "  background: var(--sklearn-color-fitted-level-0);\n",
       "  border: var(--sklearn-color-fitted-level-3);\n",
       "}\n",
       "\n",
       ".sk-estimator-doc-link:hover span {\n",
       "  display: block;\n",
       "}\n",
       "\n",
       "/* \"?\"-specific style due to the `<a>` HTML tag */\n",
       "\n",
       "#sk-container-id-1 a.estimator_doc_link {\n",
       "  float: right;\n",
       "  font-size: 1rem;\n",
       "  line-height: 1em;\n",
       "  font-family: monospace;\n",
       "  background-color: var(--sklearn-color-background);\n",
       "  border-radius: 1rem;\n",
       "  height: 1rem;\n",
       "  width: 1rem;\n",
       "  text-decoration: none;\n",
       "  /* unfitted */\n",
       "  color: var(--sklearn-color-unfitted-level-1);\n",
       "  border: var(--sklearn-color-unfitted-level-1) 1pt solid;\n",
       "}\n",
       "\n",
       "#sk-container-id-1 a.estimator_doc_link.fitted {\n",
       "  /* fitted */\n",
       "  border: var(--sklearn-color-fitted-level-1) 1pt solid;\n",
       "  color: var(--sklearn-color-fitted-level-1);\n",
       "}\n",
       "\n",
       "/* On hover */\n",
       "#sk-container-id-1 a.estimator_doc_link:hover {\n",
       "  /* unfitted */\n",
       "  background-color: var(--sklearn-color-unfitted-level-3);\n",
       "  color: var(--sklearn-color-background);\n",
       "  text-decoration: none;\n",
       "}\n",
       "\n",
       "#sk-container-id-1 a.estimator_doc_link.fitted:hover {\n",
       "  /* fitted */\n",
       "  background-color: var(--sklearn-color-fitted-level-3);\n",
       "}\n",
       "</style><div id=\"sk-container-id-1\" class=\"sk-top-container\"><div class=\"sk-text-repr-fallback\"><pre>LinearRegression()</pre><b>In a Jupyter environment, please rerun this cell to show the HTML representation or trust the notebook. <br />On GitHub, the HTML representation is unable to render, please try loading this page with nbviewer.org.</b></div><div class=\"sk-container\" hidden><div class=\"sk-item\"><div class=\"sk-estimator fitted sk-toggleable\"><input class=\"sk-toggleable__control sk-hidden--visually\" id=\"sk-estimator-id-1\" type=\"checkbox\" checked><label for=\"sk-estimator-id-1\" class=\"sk-toggleable__label fitted sk-toggleable__label-arrow fitted\">&nbsp;&nbsp;LinearRegression<a class=\"sk-estimator-doc-link fitted\" rel=\"noreferrer\" target=\"_blank\" href=\"https://scikit-learn.org/1.5/modules/generated/sklearn.linear_model.LinearRegression.html\">?<span>Documentation for LinearRegression</span></a><span class=\"sk-estimator-doc-link fitted\">i<span>Fitted</span></span></label><div class=\"sk-toggleable__content fitted\"><pre>LinearRegression()</pre></div> </div></div></div></div>"
      ],
      "text/plain": [
       "LinearRegression()"
      ]
     },
     "execution_count": 172,
     "metadata": {},
     "output_type": "execute_result"
    }
   ],
   "source": [
    "from sklearn.linear_model import LinearRegression\n",
    "\n",
    "# Initialiser le modèle\n",
    "model = LinearRegression()\n",
    "\n",
    "# Entraîner sur les données d'entraînement\n",
    "model.fit(X_train, y_train)\n"
   ]
  },
  {
   "cell_type": "code",
   "execution_count": 173,
   "id": "8918db54-fb7e-4adf-91fc-3ff98a9bc84d",
   "metadata": {},
   "outputs": [
    {
     "name": "stdout",
     "output_type": "stream",
     "text": [
      "[Validation] MAE  : 15,700,322,464,455,194,624.00\n",
      "[Validation] RMSE : 63,751,664,903,285,334,016.00\n",
      "[Validation] R²   : -434689569671497323118592.0000\n"
     ]
    }
   ],
   "source": [
    "from sklearn.metrics import mean_absolute_error, mean_squared_error, r2_score\n",
    "\n",
    "# Prédire sur le jeu de validation\n",
    "y_val_pred = model.predict(X_val)\n",
    "\n",
    "# Calcul des métriques\n",
    "mae_val = mean_absolute_error(y_val, y_val_pred)\n",
    "rmse_val = np.sqrt(mean_squared_error(y_val, y_val_pred))\n",
    "r2_val = r2_score(y_val, y_val_pred)\n",
    "\n",
    "print(f\"[Validation] MAE  : {mae_val:,.2f}\")\n",
    "print(f\"[Validation] RMSE : {rmse_val:,.2f}\")\n",
    "print(f\"[Validation] R²   : {r2_val:.4f}\")\n"
   ]
  },
  {
   "cell_type": "markdown",
   "id": "25b2cf9a-5b6b-4bf9-a851-a8d8498d38f5",
   "metadata": {},
   "source": [
    "### Problème de distribution de la variable cible `Gross`\n",
    "\n",
    "Lors de l'entraînement du modèle de régression linéaire, les métriques d'évaluation (MAE, RMSE, R²) sont devenues aberrantes avec des valeurs extrêmement élevées. Cela est principalement dû à la **distribution très asymétrique (skewed)** de la variable `Gross`, qui contient des **valeurs extrêmes** (blockbusters) ayant un **impact disproportionné** sur le modèle.\n",
    "\n",
    "####  Solution : Transformation logarithmique de `Gross`\n",
    "\n",
    "Pour corriger ce problème, nous appliquons une **transformation logarithmique** à la variable cible afin de :\n",
    "\n",
    "- Réduire l’effet des outliers.\n",
    "- Rendre la distribution plus proche d’une distribution normale.\n",
    "- Stabiliser le modèle de régression."
   ]
  },
  {
   "cell_type": "code",
   "execution_count": 179,
   "id": "e66ae890-fccf-40fa-be99-859bafb8fbfa",
   "metadata": {},
   "outputs": [
    {
     "name": "stdout",
     "output_type": "stream",
     "text": [
      "[Validation] MAE  : 4,843,855,331.19\n",
      "[Validation] RMSE : 18,323,735,963.95\n",
      "[Validation] R²   : -35909.7279\n"
     ]
    }
   ],
   "source": [
    "import numpy as np\n",
    "import pandas as pd\n",
    "from sklearn.model_selection import train_test_split\n",
    "from sklearn.linear_model import LinearRegression\n",
    "from sklearn.metrics import mean_absolute_error, mean_squared_error, r2_score\n",
    "from sklearn.preprocessing import StandardScaler\n",
    "\n",
    "\n",
    "#  1. Transformation log de la cible\n",
    "df['log_Gross'] = np.log(df['Gross'] + 1)  # +1 pour éviter log(0)\n",
    "\n",
    "# ------------------------------\n",
    "# 2. Définir X et y\n",
    "y = df['log_Gross']\n",
    "X = df.drop(columns=['Gross', 'log_Gross'])\n",
    "\n",
    "# ------------------------------\n",
    "#  3. Split en train / val / test\n",
    "X_train, X_temp, y_train, y_temp = train_test_split(X, y, test_size=0.3, random_state=42)\n",
    "X_val, X_test, y_val, y_test = train_test_split(X_temp, y_temp, test_size=0.5, random_state=42)\n",
    "\n",
    "# ------------------------------\n",
    "# 4. Entraînement du modèle\n",
    "model = LinearRegression()\n",
    "model.fit(X_train, y_train)\n",
    "\n",
    "# ------------------------------\n",
    "#  5. Prédiction sur validation + inverse du log\n",
    "y_val_pred_log = model.predict(X_val)\n",
    "\n",
    "#  Clamp pour éviter l'overflow dans exp()\n",
    "y_val_pred_log = np.clip(y_val_pred_log, a_min=None, a_max=25)\n",
    "\n",
    "# Inverser la transformation log\n",
    "y_val_pred = np.exp(y_val_pred_log) - 1\n",
    "y_val_true = np.exp(y_val) - 1  # On inverse la vérité terrain\n",
    "\n",
    "\n",
    "#  6. Évaluation du modèle\n",
    "mae = mean_absolute_error(y_val_true, y_val_pred)\n",
    "rmse = np.sqrt(mean_squared_error(y_val_true, y_val_pred))\n",
    "r2 = r2_score(y_val_true, y_val_pred)\n",
    "\n",
    "print(f\"[Validation] MAE  : {mae:,.2f}\")\n",
    "print(f\"[Validation] RMSE : {rmse:,.2f}\")\n",
    "print(f\"[Validation] R²   : {r2:.4f}\")\n"
   ]
  },
  {
   "cell_type": "markdown",
   "id": "18352581-1e2e-49c5-a2b9-4d7cadc828c9",
   "metadata": {},
   "source": [
    "#  Régression linéaire sur log(Gross)\n",
    "\n",
    "Nous avons entraîné un modèle de régression linéaire en utilisant une transformation logarithmique sur la variable cible `Gross`.  \n",
    "Cette transformation était nécessaire en raison de la distribution très asymétrique des revenus des films.\n",
    "\n",
    "Bien que les métriques d’erreur (`MAE`, `RMSE`) soient désormais dans une échelle réaliste, le **coefficient R² est extrêmement négatif**, ce qui indique que :\n",
    "\n",
    "- Le modèle linéaire **n’explique pas la variance** des revenus.\n",
    "- Il **échoue à capturer les relations complexes** entre les variables explicatives et `Gross`.\n",
    " \n",
    "Nous allons maintenant tester un modèle plus flexible : **Random Forest Regressor**, capable de mieux gérer les relations non linéaires et les interactions entre variables.\n"
   ]
  },
  {
   "cell_type": "code",
   "execution_count": 180,
   "id": "a77d7099-9713-4742-bd1c-9b31018b3559",
   "metadata": {},
   "outputs": [
    {
     "name": "stdout",
     "output_type": "stream",
     "text": [
      "[Random Forest - Validation]\n",
      "MAE  : 14,496,426.80\n",
      "RMSE : 34,456,386.37\n",
      "R²   : 0.8730\n"
     ]
    }
   ],
   "source": [
    "from sklearn.ensemble import RandomForestRegressor\n",
    "\n",
    "# Initialiser le modèle\n",
    "rf_model = RandomForestRegressor(n_estimators=100, random_state=42)\n",
    "\n",
    "# Entraîner\n",
    "rf_model.fit(X_train, y_train)\n",
    "\n",
    "# Prédire (log scale)\n",
    "y_val_pred_log = rf_model.predict(X_val)\n",
    "y_val_pred_log = np.clip(y_val_pred_log, a_min=None, a_max=25)\n",
    "\n",
    "# Retour à l’échelle réelle\n",
    "y_val_pred = np.exp(y_val_pred_log) - 1\n",
    "y_val_true = np.exp(y_val) - 1\n",
    "\n",
    "# Évaluation\n",
    "mae = mean_absolute_error(y_val_true, y_val_pred)\n",
    "rmse = np.sqrt(mean_squared_error(y_val_true, y_val_pred))\n",
    "r2 = r2_score(y_val_true, y_val_pred)\n",
    "\n",
    "print(f\"[Random Forest - Validation]\")\n",
    "print(f\"MAE  : {mae:,.2f}\")\n",
    "print(f\"RMSE : {rmse:,.2f}\")\n",
    "print(f\"R²   : {r2:.4f}\")\n"
   ]
  },
  {
   "cell_type": "markdown",
   "id": "b9f1b6ab-8e08-44e5-8816-3aac0732444c",
   "metadata": {},
   "source": [
    "## Optimisation du model "
   ]
  },
  {
   "cell_type": "code",
   "execution_count": 182,
   "id": "61103d79-fd54-4c92-96dd-a11a98d1caba",
   "metadata": {},
   "outputs": [
    {
     "name": "stdout",
     "output_type": "stream",
     "text": [
      "Fitting 3 folds for each of 24 candidates, totalling 72 fits\n",
      "🎯 Meilleurs hyperparamètres trouvés :\n",
      "{'max_depth': 10, 'min_samples_leaf': 1, 'min_samples_split': 2, 'n_estimators': 100}\n"
     ]
    }
   ],
   "source": [
    "from sklearn.model_selection import GridSearchCV\n",
    "from sklearn.ensemble import RandomForestRegressor\n",
    "\n",
    "# Définir la grille d'hyperparamètres à tester\n",
    "param_grid = {\n",
    "    'n_estimators': [100, 200],\n",
    "    'max_depth': [None, 10, 20],\n",
    "    'min_samples_split': [2, 5],\n",
    "    'min_samples_leaf': [1, 2]\n",
    "}\n",
    "# Initialiser le modèle de base\n",
    "rf = RandomForestRegressor(random_state=42)\n",
    "\n",
    "# GridSearch avec validation croisée 3-fold\n",
    "grid_search = GridSearchCV(estimator=rf,\n",
    "                           param_grid=param_grid,\n",
    "                           cv=3,\n",
    "                           scoring='neg_mean_absolute_error',\n",
    "                           n_jobs=-1,  # parallélisation\n",
    "                           verbose=1)\n",
    "grid_search.fit(X_train, y_train)\n",
    "best_model = grid_search.best_estimator_\n",
    "\n",
    "print(\"🎯 Meilleurs hyperparamètres trouvés :\")\n",
    "print(grid_search.best_params_)\n"
   ]
  },
  {
   "cell_type": "code",
   "execution_count": 186,
   "id": "3f432dfc-1a1b-4508-a6dd-3fddb53d179d",
   "metadata": {},
   "outputs": [
    {
     "name": "stdout",
     "output_type": "stream",
     "text": [
      "[Optimisé - Validation]\n",
      "MAE  : 14,455,614.92\n",
      "RMSE : 34,857,261.44\n",
      "R²   : 0.8700\n"
     ]
    }
   ],
   "source": [
    "# Prédiction en log\n",
    "y_val_pred_log = best_model.predict(X_val)\n",
    "y_val_pred_log = np.clip(y_val_pred_log, a_min=None, a_max=25)\n",
    "\n",
    "# Retour à l’échelle originale\n",
    "y_val_pred = np.exp(y_val_pred_log) - 1\n",
    "y_val_true = np.exp(y_val) - 1\n",
    "\n",
    "# Évaluation\n",
    "\n",
    "mae = mean_absolute_error(y_val_true, y_val_pred)\n",
    "rmse = np.sqrt(mean_squared_error(y_val_true, y_val_pred))\n",
    "r2 = r2_score(y_val_true, y_val_pred)\n",
    "\n",
    "print(f\"[Optimisé - Validation]\")\n",
    "print(f\"MAE  : {mae:,.2f}\")\n",
    "print(f\"RMSE : {rmse:,.2f}\")\n",
    "print(f\"R²   : {r2:.4f}\")\n"
   ]
  },
  {
   "cell_type": "markdown",
   "id": "96a51dff-45dd-4e8e-9f34-d95265b37668",
   "metadata": {},
   "source": [
    " ## l’évaluation finale"
   ]
  },
  {
   "cell_type": "code",
   "execution_count": 187,
   "id": "0595796f-bb84-47f5-a60e-7f83ef3b25d3",
   "metadata": {},
   "outputs": [
    {
     "name": "stdout",
     "output_type": "stream",
     "text": [
      "\n",
      " [Test Final]\n",
      "MAE  : 18,135,556.21\n",
      "RMSE : 40,056,388.67\n",
      "R²   : 0.8642\n"
     ]
    }
   ],
   "source": [
    "# Prédictions sur le jeu de test final\n",
    "y_test_pred_log = best_model.predict(X_test)\n",
    "y_test_pred_log = np.clip(y_test_pred_log, None, 25)\n",
    "\n",
    "# Retour à l’échelle d’origine\n",
    "y_test_pred = np.exp(y_test_pred_log) - 1\n",
    "y_test_true = np.exp(y_test) - 1\n",
    "\n",
    "# Évaluation finale\n",
    "mae_test = mean_absolute_error(y_test_true, y_test_pred)\n",
    "rmse_test = np.sqrt(mean_squared_error(y_test_true, y_test_pred))\n",
    "r2_test = r2_score(y_test_true, y_test_pred)\n",
    "\n",
    "print(\"\\n [Test Final]\")\n",
    "print(f\"MAE  : {mae_test:,.2f}\")\n",
    "print(f\"RMSE : {rmse_test:,.2f}\")\n",
    "print(f\"R²   : {r2_test:.4f}\")\n"
   ]
  },
  {
   "cell_type": "markdown",
   "id": "0c5c3f60-f961-4c4a-9c16-dfc11395260a",
   "metadata": {},
   "source": [
    "###  Résultats actuels du modèle Random Forest\n",
    "\n",
    "Le modèle **Random Forest** entraîné sur la version log-transformée de la variable cible `Gross` a donné d'excellents résultats :\n",
    "\n",
    "- **MAE (Validation)  :** ≈ 14.5 M  \n",
    "- **RMSE (Validation) :** ≈ 34.8 M  \n",
    "- **R² (Validation)   :** 0.8700  \n",
    "- **R² (Test final)   :** 0.8642 \n",
    "\n",
    "> Ces résultats montrent que le modèle explique **plus de 86% de la variance** des revenus des films et qu’il généralise bien à des données jamais vues.\n",
    "\n",
    "\n",
    "###  Étape suivante : tester un modèle encore plus performant\n",
    "\n",
    "Bien que le Random Forest offre déjà une très bonne performance, nous allons tester un autre modèle **plus puissant et flexible** : **XGBoost** (Extreme Gradient Boosting).  \n",
    "Ce modèle est souvent capable de mieux\n"
   ]
  },
  {
   "cell_type": "code",
   "execution_count": 189,
   "id": "54823e9a-fe25-47ae-be0f-8dc5d8e513e8",
   "metadata": {},
   "outputs": [
    {
     "name": "stdout",
     "output_type": "stream",
     "text": [
      "Fitting 3 folds for each of 72 candidates, totalling 216 fits\n",
      "XGBoost - Validation\n",
      "MAE  : 15,528,501.98\n",
      "RMSE : 38,220,322.83\n",
      "R²   : 0.8438\n"
     ]
    }
   ],
   "source": [
    "import xgboost as xgb\n",
    "from sklearn.model_selection import GridSearchCV\n",
    "\n",
    "# Prépare tes données comme précédemment (X_train, y_train en log, etc.)\n",
    "xgb_model = xgb.XGBRegressor(objective='reg:squarederror', random_state=42)\n",
    "\n",
    "param_grid = {\n",
    "    'n_estimators': [100, 200],\n",
    "    'max_depth': [3, 6, 10],\n",
    "    'learning_rate': [0.01, 0.1, 0.3],\n",
    "    'subsample': [0.7, 1.0],\n",
    "    'colsample_bytree': [0.7, 1.0]\n",
    "}\n",
    "\n",
    "grid_search_xgb = GridSearchCV(estimator=xgb_model, param_grid=param_grid, cv=3, scoring='neg_mean_absolute_error', n_jobs=-1, verbose=1)\n",
    "grid_search_xgb.fit(X_train, y_train)\n",
    "\n",
    "best_xgb = grid_search_xgb.best_estimator_\n",
    "\n",
    "# Prédire et revenir à l'échelle réelle\n",
    "y_val_pred_log_xgb = best_xgb.predict(X_val)\n",
    "y_val_pred_log_xgb = np.clip(y_val_pred_log_xgb, a_min=None, a_max=25)\n",
    "y_val_pred_xgb = np.exp(y_val_pred_log_xgb) - 1\n",
    "y_val_true = np.exp(y_val) - 1\n",
    "\n",
    "# Évaluation\n",
    "\n",
    "\n",
    "mae_xgb = mean_absolute_error(y_val_true, y_val_pred_xgb)\n",
    "rmse_xgb = np.sqrt(mean_squared_error(y_val_true, y_val_pred_xgb))\n",
    "r2_xgb = r2_score(y_val_true, y_val_pred_xgb)\n",
    "\n",
    "print(\"XGBoost - Validation\")\n",
    "print(f\"MAE  : {mae_xgb:,.2f}\")\n",
    "print(f\"RMSE : {rmse_xgb:,.2f}\")\n",
    "print(f\"R²   : {r2_xgb:.4f}\")\n"
   ]
  },
  {
   "cell_type": "markdown",
   "id": "cf77e832-bcd0-43bb-a200-503a68126b32",
   "metadata": {},
   "source": [
    "###  Comparaison finale : Random Forest vs XGBoost\n",
    "\n",
    "Après entraînement et validation, voici les résultats comparés entre les deux modèles :\n",
    "\n",
    "| Modèle        | MAE       | RMSE      | R²     |\n",
    "|---------------|-----------|-----------|--------|\n",
    "| Random Forest | **14.45 M** | **34.86 M** | **0.8700** |\n",
    "| XGBoost       | 15.53 M   | 38.22 M   | 0.8438 |\n",
    "\n",
    " Le modèle **Random Forest** reste le **plus performant** sur ce dataset.  \n",
    "Il offre les **meilleures prédictions** avec un bon équilibre entre précision (MAE), stabilité (RMSE) et qualité globale (R²).\n",
    "\n",
    "Nous allons donc **conserver Random Forest comme modèle final** \n"
   ]
  },
  {
   "cell_type": "code",
   "execution_count": 191,
   "id": "2ac22e63-14f0-4aa8-be1c-80b5f38b88ae",
   "metadata": {},
   "outputs": [
    {
     "data": {
      "text/plain": [
       "['best_random_forest_model.pkl']"
      ]
     },
     "execution_count": 191,
     "metadata": {},
     "output_type": "execute_result"
    }
   ],
   "source": [
    "import joblib\n",
    "\n",
    "# Exporter le modèle\n",
    "joblib.dump(best_model, 'best_random_forest_model.pkl')\n",
    "\n"
   ]
  },
  {
   "cell_type": "code",
   "execution_count": 193,
   "id": "dc50e430-cc90-42c4-9b6a-2f4fd198b14e",
   "metadata": {},
   "outputs": [
    {
     "data": {
      "image/png": "[encoded data removed]",
      "text/plain": [
       "<Figure size 1000x500 with 1 Axes>"
      ]
     },
     "metadata": {},
     "output_type": "display_data"
    }
   ],
   "source": [
    "# Obtenir les importances\n",
    "importances = best_model.feature_importances_\n",
    "features = X.columns\n",
    "indices = np.argsort(importances)[::-1]\n",
    "\n",
    "# Nombre de variables à afficher\n",
    "top_n = 10\n",
    "top_features = features[indices][:top_n]\n",
    "top_importances = importances[indices][:top_n]\n",
    "\n",
    "# Tracer\n",
    "plt.figure(figsize=(10, 5))\n",
    "plt.title(f\"Top {top_n} variables les plus importantes dans le modèle\", fontsize=14)\n",
    "plt.barh(range(top_n), top_importances[::-1], align='center')  # inverser pour mettre la + importante en haut\n",
    "plt.yticks(range(top_n), top_features[::-1])\n",
    "plt.xlabel(\"Importance\")\n",
    "plt.tight_layout()\n",
    "plt.show()\n"
   ]
  },
  {
   "cell_type": "markdown",
   "id": "2c81ee2c-c39f-4e9d-8419-d61c0caa3127",
   "metadata": {},
   "source": [
    "###  Interprétation des variables les plus importantes\n",
    "\n",
    "Le graphique ci-dessus montre les **10 variables les plus influentes** dans le modèle Random Forest pour prédire les revenus (`Gross`) d’un film.\n",
    "\n",
    "Les deux variables **largement dominantes** sont :\n",
    "\n",
    "1. **Stars_encoded** → C’est la variable la plus importante.\n",
    "   > Cela signifie que **les acteurs principaux ont un poids énorme** dans le succès financier d’un film.  \n",
    "   Les acteurs \"bankables\" attirent plus de spectateurs et donc plus de revenus.\n",
    "\n",
    "2. **Director_encoded** → Juste derrière les stars.\n",
    "   > Certains réalisateurs (ex : Christopher Nolan, James Cameron...) ont une **capacité prouvée à générer des revenus élevés**, quel que soit le film.\n",
    "\n",
    "Les autres variables ont une importance bien plus faible, mais offrent des insights intéressants :\n",
    "- **Released_Year** → Les films plus récents ont un petit avantage.\n",
    "- **Genres combinés** comme `Crime, Thriller` ou `Drama, History` → ont une petite influence sur les revenus.\n",
    "- **No_of_Votes** → Étonnamment faible ici, probablement **corrélé à Stars et Director**.\n",
    "- **Runtime** → Impact très léger.\n",
    "- **Certificate_Passed** → Influence marginale.\n",
    "\n",
    "\n",
    "###  Conclusion :\n",
    "Le modèle nous apprend que le **succès d’un film au box-office est largement drivé par les talents qui y participent**, surtout les **acteurs** et **réalisateurs**.\n",
    "\n",
    "Les caractéristiques comme le genre, la durée, ou l’année de sortie ont un **impact secondaire**.\n",
    "\n"
   ]
  },
  {
   "cell_type": "code",
   "execution_count": null,
   "id": "ef68ca4d-82d5-4442-8404-4408d0ad0aee",
   "metadata": {},
   "outputs": [],
   "source": []
  }
 ],
 "metadata": {
  "kernelspec": {
   "display_name": "Python 3 (ipykernel)",
   "language": "python",
   "name": "python3"
  },
  "language_info": {
   "codemirror_mode": {
    "name": "ipython",
    "version": 3
   },
   "file_extension": ".py",
   "mimetype": "text/x-python",
   "name": "python",
   "nbconvert_exporter": "python",
   "pygments_lexer": "ipython3",
   "version": "3.12.7"
  }
 },
 "nbformat": 4,
 "nbformat_minor": 5
}
